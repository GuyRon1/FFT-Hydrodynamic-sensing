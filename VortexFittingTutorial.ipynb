{
 "cells": [
  {
   "cell_type": "markdown",
   "metadata": {},
   "source": [
    "**General description of this notebook.**\n",
    "\n",
    "There exists a python package for vortex dynamics named VortexFitting:\n",
    "\n",
    "    - its reference is https://doi.org/10.1016/j.softx.2020.100604 (G. Lindner, Y. Devaux, S. Miskovic, \n",
    "      \"VortexFitting: a post-processing fluid mechanics tool for vortex identification)\n",
    "\n",
    "    - its GitHub page is https://github.com/guilindner/VortexFitting\n",
    "\n",
    "    - its documentations page is https://guilindner.github.io/VortexFitting/\n",
    "    \n",
    "VortexFitting package has been integrated into PIVPY.\n",
    "This tutorial shows how to work with VortexFitting package through PIVPY."
   ]
  },
  {
   "cell_type": "markdown",
   "metadata": {},
   "source": [
    "**How the PIVPY to VortexFitting conversion is implemented.**\n",
    "\n",
    "Per Dr. Liberzon suggestion, VortexFitting has its own class `VelocityField` for storing velocity fields. One way to create a variable of this class is to read the field from a NetCDF file. Therefore, the function `pivpyTovf()` from the inter.py file of PIVPY package, takes velocity field in the form of PIVPY class object, saves this field to a NetCDF file (which is stored on the user's computer, user is let to decide what to do with this file afterwords) and reads the NetCDF file into VortexFitting class object. From there, any fucntion from VortexFitting package will be able to work with it."
   ]
  },
  {
   "cell_type": "markdown",
   "metadata": {},
   "source": [
    "**Peculiarities of VortexFitting.**\n",
    "\n",
    "VortexFitting is a Python package, it is not a Python library (i.e., you just run it from console as a \n",
    "piece of software - you do not use it like, for instance, `import numpy` in your code). Here is the work around\n",
    "describing how to use VortexFitting as a library.\n",
    "\n",
    "Either clone VortexFitting to your computer or go to its GitHub page. Navigate to the folder vortexfitting. There you will see a lot of .py files. Those files contain classes and functions of\n",
    "VortexFitting. You can open each of those files, read the descriptions of the functions and see\n",
    "what they can do. Once you have determined what functions (or class) you want to use in your code you\n",
    "can use `import` command, but in a specific manner.\n",
    "\n",
    "For example, I want to plot vorticity fields. I found that the file fitting.py contains the function `plot_fields()` that can plot vorticity. Then in my code, I type the following:\n",
    "```\n",
    "import vortexfitting.fitting as vfFitting\n",
    "vfFitting.plot_fields(<the name of my field>, vorticity)\n",
    "```"
   ]
  },
  {
   "cell_type": "markdown",
   "metadata": {},
   "source": [
    "**Here is a custom made example with a velocity field that is also used to test the function pivpyToVf().**"
   ]
  },
  {
   "cell_type": "code",
   "execution_count": null,
   "metadata": {},
   "outputs": [],
   "source": [
    "import pathlib\n",
    "import importlib.resources\n",
    "import numpy as np\n",
    "import matplotlib.pyplot as plt\n",
    "import vortexfitting.schemes as vfSchemes\n",
    "import vortexfitting.fitting as vfFitting\n",
    "import vortexfitting.detection as vfDetection\n",
    "import vortexfitting.output as vfOutput\n",
    "from netCDF4 import Dataset\n",
    "from pivpy import io, graphics, inter "
   ]
  },
  {
   "cell_type": "code",
   "execution_count": null,
   "metadata": {},
   "outputs": [],
   "source": [
    "ls /home/user/Downloads/GuyRon_Analysis/"
   ]
  },
  {
   "cell_type": "code",
   "execution_count": null,
   "metadata": {},
   "outputs": [],
   "source": [
    "# For Python 3.9+\n",
    "path = '/home/user/Downloads/GuyRon_Analysis/'\n",
    "# Convert to pathlib.Path if not already\n",
    "path = pathlib.Path(path)\n",
    "assert path.exists()"
   ]
  },
  {
   "cell_type": "code",
   "execution_count": null,
   "metadata": {},
   "outputs": [],
   "source": [
    "# read VEC files into PIVPy structure (xarray)\n",
    "d = io.load_directory(path) # maybe a bit long, see also how to read a single VEC file\n",
    "# https://github.com/alexlib/pivpy/blob/master/examples/notebooks/test_reading_different_files.ipynb"
   ]
  },
  {
   "cell_type": "code",
   "execution_count": null,
   "metadata": {},
   "outputs": [],
   "source": [
    "d.head()"
   ]
  },
  {
   "cell_type": "code",
   "execution_count": null,
   "metadata": {},
   "outputs": [],
   "source": [
    "d.to_netcdf(path / 'data.nc')"
   ]
  },
  {
   "cell_type": "code",
   "execution_count": null,
   "metadata": {},
   "outputs": [],
   "source": [
    "# Create an OpenPIV .txt file with velocity field (interTest.txt), put it into a folder and specify the path to it:\n",
    "# openpivTxtTestFile = path / \"openpiv_txt\" / \"interTest.txt\" \n",
    "# Think up a name for the future NetCDF file (which is created as an itermediate file as described above),\n",
    "# think where it will be located and create such a path. To be totally clear: the NetCDF file\n",
    "# testInterCreates_nc.nc does not exist yet. We have just created a name for it.\n",
    "saveToDir = path / \"interTest\"\n",
    "if not saveToDir.exists():\n",
    "    saveToDir.mkdir()\n",
    "    \n",
    "saveNcFile  = path / \"interTest\" / \"testInterCreates_nc.nc\"\n",
    "# File with vortices created by VortexFitting:\n",
    "saveVortexFile = path / \"interTest\" / \"vortices.dat\"\n",
    "# Directory to save the plots to:\n"
   ]
  },
  {
   "cell_type": "code",
   "execution_count": null,
   "metadata": {},
   "outputs": [],
   "source": [
    "from pivpy import pivpy \n",
    "d.isel(t=0).piv.quiver()"
   ]
  },
  {
   "cell_type": "code",
   "execution_count": null,
   "metadata": {},
   "outputs": [],
   "source": [
    "# test on 5 first maps:\n",
    "vfField = inter.pivpyTOvf(d.isel(t=slice(0,4)), saveNcFile)\n",
    "\n",
    "# OR test on all maps:\n",
    "\n",
    "# Convert the PIVPY object to the VortexFitting object using the function pivpyTOvf() from inter.py module.\n",
    "# vfField = inter.pivpyTOvf(d, saveNcFile)"
   ]
  },
  {
   "cell_type": "code",
   "execution_count": null,
   "metadata": {},
   "outputs": [],
   "source": [
    "# As mentioned before, conversion of the PIVPY object to the VortexFitting object yields an auxiliary \n",
    "# NetCDF4 file. It is left to the user to decide what to do with the file. Just in case, this is a\n",
    "# brief example of how to work with a NetCDF4 file.\n",
    "# First, read the file:\n",
    "nc = Dataset(str(saveNcFile))\n",
    "# Second, access its data:\n",
    "print(\"nc['grid_n']:\\n{}\".format(nc['grid_n'][:])) # the name of x coordinate in the VortexFitting class\n",
    "print(\"\\nnc['grid_z']:\\n{}\".format(nc['grid_z'][:])) # the name of y coordinate in the VortexFitting class\n",
    "print(\"\\nnc['velocity_n']:\\n{}\".format(nc['velocity_n'][:])) # the name of u velocity component in the VortexFitting class\n",
    "print(\"\\nnc['velocity_s']:\\n{}\".format(nc['velocity_s'][:])) # the name of v velocity component in the VortexFitting class\n",
    "print(\"\\nx coordinate nc-file shape: {}\".format(nc['grid_n'].shape))\n",
    "print(\"y coordinate nc-file shape: {}\".format(nc['grid_z'].shape))\n",
    "print(\"u velocity component nc-file shape: {}\".format(nc['velocity_n'].shape))\n",
    "print(\"v velocity component nc-file shape: {}\".format(nc['velocity_s'].shape))\n"
   ]
  },
  {
   "cell_type": "markdown",
   "metadata": {},
   "source": [
    "Having obtained the VortexFitting object, you can apply any VortexFitting functions to it. Here are some examples.\n",
    "**IMPORTANT: see the module \\_\\_main.py\\_\\_ in VortexFitting package for the exhaustive list of all the ways\n",
    "you can work with VortexFitting**."
   ]
  },
  {
   "cell_type": "markdown",
   "metadata": {},
   "source": [
    "**Example 1**: obtaining the fields of u, v, x and y."
   ]
  },
  {
   "cell_type": "code",
   "execution_count": null,
   "metadata": {},
   "outputs": [],
   "source": [
    "# IMPORTANT: the object of VortexFitting class does not store u, v, x and y as they are.\n",
    "# There, u and v are, essentially, the fluctuating components of u and v velocity components (i.e,\n",
    "# VortexFitting automatically subtracts the means from u and v); y coordinate is automatically \n",
    "# inversed by VortexFitting. For more information see the source code for class VelosityField (lines\n",
    "# 87-108 under the \"if file_type == 'piv_netcdf':\" statement) in the classes.py module of \n",
    "# VortexFitting package.\n",
    "print(\"vfField.u_velocity_matrix:\\n{}\".format(vfField.u_velocity_matrix[:]))\n",
    "print(\"\\nvfField.v_velocity_matrix:\\n{}\".format(vfField.v_velocity_matrix[:]))\n",
    "print(\"\\nvfField.x_coordinate_matrix:\\n{}\".format(vfField.x_coordinate_matrix[:]))\n",
    "print(\"\\nvfField.y_coordinate_matrix:\\n{}\".format(vfField.y_coordinate_matrix[:]))"
   ]
  },
  {
   "cell_type": "code",
   "execution_count": null,
   "metadata": {},
   "outputs": [],
   "source": [
    "# Compare them to the original velocity and coordinate fields.\n",
    "print(\"d['u'].values:\\n{}\".format(d['u'].values))\n",
    "print(\"\\nd['v'].values:\\n{}\".format(d['v'].values))\n",
    "print(\"\\nd.coords['x'].values:\\n{}\".format(d.coords['x'].values))\n",
    "print(\"\\nd.coords['y'].values:\\n{}\".format(d.coords['y'].values))"
   ]
  },
  {
   "cell_type": "markdown",
   "metadata": {},
   "source": [
    "**Example 2**: ploting colored contours of velocity and vorticity fields."
   ]
  },
  {
   "cell_type": "code",
   "execution_count": null,
   "metadata": {},
   "outputs": [],
   "source": [
    "# To plot vorticity field, vorticity must be calculated first.\n",
    "# VortexFitting offers three methods to approximate the derivatives going into the definition of\n",
    "# vorticity (see the functions in the schemes.py module of VortexFitting package). They are \n",
    "# second_order_diff(vfield), least_square_diff(vfield) and fourth_order_diff(vfield). They way they\n",
    "# can be used is exactly the same. Let me examplify their usage on fourth_order_diff(vfield) function.\n",
    "# IMPORTANT to remember that this vorticity is based on the fluctuating velocity components.\n",
    "vfFieldDerivative = vfSchemes.fourth_order_diff(vfField)\n",
    "vorticity = vfFieldDerivative['dvdx'] - vfFieldDerivative['dudy']\n",
    "print(\"Vorticity={}\".format(vorticity))"
   ]
  },
  {
   "cell_type": "code",
   "execution_count": null,
   "metadata": {},
   "outputs": [],
   "source": [
    "# The function plot_fields() from the module fitting.py of VortexFitting package offers a way to\n",
    "# plot colored contours of vorticity.\n",
    "# Run the cell and not the following important features of this function.\n",
    "# 1) It plots not only colored contours of vorticity, but also colored contours of u,v and w fluctuating\n",
    "# components of velocity. When the object of VortexFitting class is being created, VortexFiting demands\n",
    "# w component. It wouldn't allow the absence of w component. w component may be None, but it must \n",
    "# exist. That's why the w plot is all white.\n",
    "# 2) Even though the function plot_fields() accepts any \"detection field\" - not just vorticity - it\n",
    "# will always call the \"detection field\" plot \"vorticity\".\n",
    "# 3) Under the hood, the function plot_fields() makes use of the function plt.imshow() from matplotlib.\n",
    "# The function plt.imshow() converts our fields to an image. Our fields - for instance, u field - \n",
    "# have each data point assigned to the center of the interrogation window. The size of the interrogation\n",
    "# window might be, say, 16pix (or 32pix or 64pix). But the function plt.imshow() - when converting the\n",
    "# field to the image - treats every interrogation window as a pixel. That is why the vertical and\n",
    "# horizontal spans of the collored contours created by plot_fields() are smaller than the corresponding\n",
    "# spans of our original fields.\n",
    "# The flow setup I am using for this example has a rather peculiar upward flow along an inclined wall.\n",
    "vfFitting.plot_fields(vfField, vorticity)"
   ]
  },
  {
   "cell_type": "markdown",
   "metadata": {},
   "source": [
    "**Example 3**: ploting colored contour of vorticity field imposed on the field of the fluctuating velocity components."
   ]
  },
  {
   "cell_type": "code",
   "execution_count": null,
   "metadata": {},
   "outputs": [],
   "source": [
    "# The function plot_quiver() fro the fitting.py module of VortexFitting package offers a way to impose\n",
    "# the colored contour of vorticity field on the plot of the fluctuating velocity components. Here is\n",
    "# an example of how to use it.\n",
    "# The flow setup I am using for this example has a rather peculiar upward flow along an inclined wall.\n",
    "x2D, y2D = np.meshgrid(vfField.x_coordinate_matrix, vfField.y_coordinate_matrix)\n",
    "vfFitting.plot_quiver(x2D, y2D, vfField.u_velocity_matrix, vfField.v_velocity_matrix, vorticity)"
   ]
  },
  {
   "cell_type": "code",
   "execution_count": null,
   "metadata": {},
   "outputs": [],
   "source": [
    "# To make sure VortexFitting plots the right field, let's do two tests.\n",
    "# First, let's use matplotlib package to plot the field. The idea is that if another package results\n",
    "# in the identical field, VortexFitting is validated.\n",
    "plt.contourf(vorticity, extent=[x2D[0][0], x2D[0][-1], y2D[0][0], y2D[-1][0]])\n",
    "plt.quiver(x2D, y2D, vfField.u_velocity_matrix, vfField.v_velocity_matrix)\n",
    "plt.show()"
   ]
  },
  {
   "cell_type": "code",
   "execution_count": null,
   "metadata": {},
   "outputs": [],
   "source": [
    "# Second, let's use matplotlib package to plot the original fields (the ones given by PIVPY object).\n",
    "# The idea is the same - use another object to get the identical plot. Note, however, that the PIVPY\n",
    "# object - as oppose to the VortexFitting object - stores the full velocity components, not just\n",
    "# thir fluctuating parts.\n",
    "x = d.coords['x'].values.flatten()\n",
    "y = d.coords['y'].values.flatten()\n",
    "X, Y = np.meshgrid(x, y)\n",
    "Uvel = np.nan_to_num(d['u'].isel(t=0).values, copy=False); Uvel = np.subtract(Uvel,Uvel.mean())\n",
    "Vvel = np.nan_to_num(d['v'].isel(t=0).values, copy=False); Vvel = np.subtract(Vvel,Vvel.mean())\n",
    "plt.quiver(X, Y, Uvel.T, Vvel.T) \n",
    "plt.show()\n"
   ]
  },
  {
   "cell_type": "code",
   "execution_count": null,
   "metadata": {},
   "outputs": [],
   "source": [
    "# And the same thing can be done using PIVPY native syntax:\n",
    "graphics.quiver(d, arrScale=10) \n",
    "plt.show()"
   ]
  },
  {
   "cell_type": "markdown",
   "metadata": {},
   "source": [
    "**Example 3**: vortex detection."
   ]
  },
  {
   "cell_type": "code",
   "execution_count": null,
   "metadata": {},
   "outputs": [],
   "source": [
    "# VortexFitting package offers 3 vortex detection methods (for the theoretical basis, see their \n",
    "# documentation at https://guilindner.github.io/VortexFitting/methodology.html). They are: Q criterion,\n",
    "# Delta criterion and Swirling strength criterion. They are represented by the corresponding functions\n",
    "# calc_q_criterion(vfield), calc_delta_criterion(vfield) and calc_swirling(vfield) located in the \n",
    "# module detection.py of VortexFitting package. Their usage is exactly the same. I'm going to examplify\n",
    "# the use of the Q criterion.\n",
    "vortexDetect = vfDetection.calc_q_criterion(vfField) # detect the vortices; to play with other methods\n",
    "                                                     # just substitute \"calc_q_criterion\" with either\n",
    "                                                     # \"calc_swirling\" or \"calc_delta_criterion\" and run the cell\n",
    "sst = 0.1 # swirling strength detection threshold\n",
    "bs = 3 # box size (to avoid vortices overlapping) - integer distance between two vortices in mesh units\n",
    "peaks = vfFitting.find_peaks(vortexDetect, sst, bs) # detect the peaks of the swirls\n",
    "print('Vortices found: ', len(peaks[0]))\n",
    "vortices_counterclockwise, vortices_clockwise = vfFitting.direction_rotation(vorticity, peaks) # detect the direction of rotation\n",
    "rmax = 100 # initial guess of the vortex radius\n",
    "ch = 0.75 # correlation threshold - a parameter used in get_vortices() function; reduce it if the vortex is too big\n",
    "vortices = vfFitting.get_vortices(vfField, peaks, vorticity, rmax, ch) # pick only the real vorticies (remove the noise)\n",
    "print('---- Accepted vortices ----')\n",
    "print(len(vortices))\n",
    "# Plot the the detected vorticies imposed on the fielf of the fluctuating velocities.\n",
    "x_index, y_index, u_data, v_data = vfFitting.window(vfField, 0, 0, rmax)\n",
    "vfFitting.plot_quiver(x_index, y_index, u_data, v_data, vortexDetect)\n",
    "# Plot location and rotation of the vortices.\n",
    "# The function plot_detect() uses plt.imshow() under the hood, which, again, means that\n",
    "# every one of our interrogation windows is presented as a pixel.\n",
    "vfFitting.plot_detect(vortices_counterclockwise, vortices_clockwise, vortexDetect, 0) # 0 flag means don't invert X and Y axes for plotting; 1 flag does the opposite\n",
    "# Plot and create an outpot file with identified vortices.\n",
    "# Note, that the function create() from the module output.py of VortexFitting package \n",
    "# cannot be used because it requires arguments from the console. Instead, just implement this \n",
    "# function here:\n",
    "with saveVortexFile.open(\"w\") as outfile:\n",
    "    outfile.write(\"TITLE=\\\"Vortex characteristics evolution\\\"\\n\")\n",
    "    outfile.write(\"Variables=\\\"time\\\",\\\"radius\\\",\\\"gamma\\\",\\\"xcenter\\\",\\\"ycenter\\\",\"\n",
    "                  \"\\\"u_advection\\\",\\\"v_advection\\\",\\\"correlation\\\",\\\"vtheta\\\"\\n\")\n",
    "    outfile.write(\"DATASETAUXDATA Detection_method=\\\"{}\\\"\\n\".format(\"Q criterion\"))\n",
    "    outfile.write(\"DATASETAUXDATA Scheme=\\\"{}\\\"\\n\".format('fourth order')) # see the cell where we calculated vorticity\n",
    "    outfile.write(\"DATASETAUXDATA Box_size=\\\"{}\\\"\\n\".format(bs))\n",
    "    outfile.write(\"DATASETAUXDATA Detection_threshold=\\\"{}\\\"\\n\".format(sst))\n",
    "    outfile.write(\"DATASETAUXDATA Rmax=\\\"{}\\\"\\n\".format(rmax))\n",
    "    outfile.write(\"DATASETAUXDATA Correlation_threshold=\\\"{}\\\"\\n\".format(ch))\n",
    "    outfile.write(\"DATASETAUXDATA Mean_file=\\\"{}\\\"\\n\".format(\"mean field subtracted\"))\n",
    "    outfile.write(\"DATASETAUXDATA File_type=\\\"{}\\\"\\n\".format('piv_netcdf'))\n",
    "    outfile.write(\"ZONE T=\\\"0\\\", SOLUTIONTIME=0\\n\")\n",
    "# Plot accepted vortices.\n",
    "# The function plot_accepted() yields two plots: accepted vortices as contours and accpeted vortices\n",
    "# as plt.imshow(). Pay attention, that plt.imshow() treats every interrogation window as 1 pixel.\n",
    "vfFitting.plot_accepted(vfField, vortices, vortexDetect, str(saveToDir), 0, 'png') # the argument 0 refers to the time step\n",
    "# Add vorticies information to the output file:\n",
    "vfOutput.write(vortices, str(saveToDir), 0) # the argument 0 refers to the time step\n",
    "# Let's see if the files were created:\n",
    "print(\"All the files in the saving directory saveToDir:\")\n",
    "for path in saveToDir.iterdir(): print(path.name) # You will see the files accepted_0.png and \n",
    "                                                  # accepted_0.svg which are the plots of the accepted vortices;\n",
    "                                                  # files linked_0.svg and meshed_0.png which are the plots of\n",
    "                                                  # the detected vortices; the file vortices.dat contains\n",
    "                                                  # vortices data (i.e., it's an analog of OpenPIV .txt file)"
   ]
  }
 ],
 "metadata": {
  "kernelspec": {
   "display_name": "PIVPY_development",
   "language": "python",
   "name": "python3"
  },
  "language_info": {
   "codemirror_mode": {
    "name": "ipython",
    "version": 3
   },
   "file_extension": ".py",
   "mimetype": "text/x-python",
   "name": "python",
   "nbconvert_exporter": "python",
   "pygments_lexer": "ipython3",
   "version": "3.10.14"
  }
 },
 "nbformat": 4,
 "nbformat_minor": 2
}
